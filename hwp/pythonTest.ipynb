{
 "cells": [
  {
   "cell_type": "markdown",
   "metadata": {},
   "source": [
    "<제목>\n",
    "# 제목1\n",
    "## 제목2\n",
    "### 제목3\n",
    "\n",
    "<인용구>\n",
    "> 인용구\n",
    "\n",
    "<순서 있는 목록>\n",
    "1. 순서 있는 목록\n",
    "2. 순서 있는 목록\n",
    "3. 순서 있는 목록\n",
    "\n",
    "<순서 없는 목록>\n",
    "- 순서 없는 목록\n",
    "- 순서 없는 목록\n",
    "- 순서 없는 목록"
   ]
  },
  {
   "cell_type": "code",
   "execution_count": 6,
   "metadata": {},
   "outputs": [
    {
     "name": "stdout",
     "output_type": "stream",
     "text": [
      "Collecting pyhwpx\n",
      "  Downloading pyhwpx-0.11.0-py3-none-any.whl.metadata (2.1 kB)\n",
      "Collecting numpy (from pyhwpx)\n",
      "  Downloading numpy-1.26.4-cp311-cp311-win_amd64.whl.metadata (61 kB)\n",
      "     ---------------------------------------- 0.0/61.0 kB ? eta -:--:--\n",
      "     ------------ ------------------------- 20.5/61.0 kB 682.7 kB/s eta 0:00:01\n",
      "     ---------------------------------------- 61.0/61.0 kB 1.1 MB/s eta 0:00:00\n",
      "Collecting pandas (from pyhwpx)\n",
      "  Downloading pandas-2.2.2-cp311-cp311-win_amd64.whl.metadata (19 kB)\n",
      "Requirement already satisfied: pywin32 in c:\\users\\user\\appdata\\local\\packages\\pythonsoftwarefoundation.python.3.11_qbz5n2kfra8p0\\localcache\\local-packages\\python311\\site-packages (from pyhwpx) (306)\n",
      "Collecting openpyxl (from pyhwpx)\n",
      "  Downloading openpyxl-3.1.3-py2.py3-none-any.whl.metadata (2.5 kB)\n",
      "Collecting pyperclip (from pyhwpx)\n",
      "  Downloading pyperclip-1.8.2.tar.gz (20 kB)\n",
      "  Installing build dependencies: started\n",
      "  Installing build dependencies: finished with status 'done'\n",
      "  Getting requirements to build wheel: started\n",
      "  Getting requirements to build wheel: finished with status 'done'\n",
      "  Installing backend dependencies: started\n",
      "  Installing backend dependencies: finished with status 'done'\n",
      "  Preparing metadata (pyproject.toml): started\n",
      "  Preparing metadata (pyproject.toml): finished with status 'done'\n",
      "Collecting Pillow (from pyhwpx)\n",
      "  Downloading pillow-10.3.0-cp311-cp311-win_amd64.whl.metadata (9.4 kB)\n",
      "Collecting et-xmlfile (from openpyxl->pyhwpx)\n",
      "  Downloading et_xmlfile-1.1.0-py3-none-any.whl.metadata (1.8 kB)\n",
      "Requirement already satisfied: python-dateutil>=2.8.2 in c:\\users\\user\\appdata\\local\\packages\\pythonsoftwarefoundation.python.3.11_qbz5n2kfra8p0\\localcache\\local-packages\\python311\\site-packages (from pandas->pyhwpx) (2.9.0.post0)\n",
      "Collecting pytz>=2020.1 (from pandas->pyhwpx)\n",
      "  Downloading pytz-2024.1-py2.py3-none-any.whl.metadata (22 kB)\n",
      "Collecting tzdata>=2022.7 (from pandas->pyhwpx)\n",
      "  Downloading tzdata-2024.1-py2.py3-none-any.whl.metadata (1.4 kB)\n",
      "Requirement already satisfied: six>=1.5 in c:\\users\\user\\appdata\\local\\packages\\pythonsoftwarefoundation.python.3.11_qbz5n2kfra8p0\\localcache\\local-packages\\python311\\site-packages (from python-dateutil>=2.8.2->pandas->pyhwpx) (1.16.0)\n",
      "Downloading pyhwpx-0.11.0-py3-none-any.whl (128 kB)\n",
      "   ---------------------------------------- 0.0/128.6 kB ? eta -:--:--\n",
      "   ---------------------------------------- 128.6/128.6 kB 7.4 MB/s eta 0:00:00\n",
      "Downloading numpy-1.26.4-cp311-cp311-win_amd64.whl (15.8 MB)\n",
      "   ---------------------------------------- 0.0/15.8 MB ? eta -:--:--\n",
      "   --- ------------------------------------ 1.2/15.8 MB 39.3 MB/s eta 0:00:01\n",
      "   --- ------------------------------------ 1.5/15.8 MB 15.6 MB/s eta 0:00:01\n",
      "   ---- ----------------------------------- 1.8/15.8 MB 14.3 MB/s eta 0:00:01\n",
      "   -------- ------------------------------- 3.3/15.8 MB 18.9 MB/s eta 0:00:01\n",
      "   -------- ------------------------------- 3.5/15.8 MB 16.1 MB/s eta 0:00:01\n",
      "   ----------- ---------------------------- 4.7/15.8 MB 17.8 MB/s eta 0:00:01\n",
      "   -------------- ------------------------- 5.7/15.8 MB 18.1 MB/s eta 0:00:01\n",
      "   --------------------- ------------------ 8.3/15.8 MB 23.1 MB/s eta 0:00:01\n",
      "   -------------------------------- ------- 12.8/15.8 MB 40.9 MB/s eta 0:00:01\n",
      "   ---------------------------------------  15.8/15.8 MB 81.8 MB/s eta 0:00:01\n",
      "   ---------------------------------------- 15.8/15.8 MB 65.5 MB/s eta 0:00:00\n",
      "Downloading openpyxl-3.1.3-py2.py3-none-any.whl (251 kB)\n",
      "   ---------------------------------------- 0.0/251.3 kB ? eta -:--:--\n",
      "   ---------------------------------------- 251.3/251.3 kB ? eta 0:00:00\n",
      "Downloading pandas-2.2.2-cp311-cp311-win_amd64.whl (11.6 MB)\n",
      "   ---------------------------------------- 0.0/11.6 MB ? eta -:--:--\n",
      "   ----------- ---------------------------- 3.3/11.6 MB 106.7 MB/s eta 0:00:01\n",
      "   ------------------------ --------------- 7.2/11.6 MB 92.2 MB/s eta 0:00:01\n",
      "   --------------------------------- ------ 9.7/11.6 MB 77.8 MB/s eta 0:00:01\n",
      "   ---------------------------------- ----- 10.1/11.6 MB 64.4 MB/s eta 0:00:01\n",
      "   ---------------------------------------  11.6/11.6 MB 50.4 MB/s eta 0:00:01\n",
      "   ---------------------------------------- 11.6/11.6 MB 46.7 MB/s eta 0:00:00\n",
      "Downloading pillow-10.3.0-cp311-cp311-win_amd64.whl (2.5 MB)\n",
      "   ---------------------------------------- 0.0/2.5 MB ? eta -:--:--\n",
      "   ---------------------------------------  2.5/2.5 MB 81.3 MB/s eta 0:00:01\n",
      "   ---------------------------------------- 2.5/2.5 MB 53.6 MB/s eta 0:00:00\n",
      "Downloading pytz-2024.1-py2.py3-none-any.whl (505 kB)\n",
      "   ---------------------------------------- 0.0/505.5 kB ? eta -:--:--\n",
      "   --------------------------------------- 505.5/505.5 kB 31.0 MB/s eta 0:00:00\n",
      "Downloading tzdata-2024.1-py2.py3-none-any.whl (345 kB)\n",
      "   ---------------------------------------- 0.0/345.4 kB ? eta -:--:--\n",
      "   --------------------------------------- 345.4/345.4 kB 20.9 MB/s eta 0:00:00\n",
      "Downloading et_xmlfile-1.1.0-py3-none-any.whl (4.7 kB)\n",
      "Building wheels for collected packages: pyperclip\n",
      "  Building wheel for pyperclip (pyproject.toml): started\n",
      "  Building wheel for pyperclip (pyproject.toml): finished with status 'done'\n",
      "  Created wheel for pyperclip: filename=pyperclip-1.8.2-py3-none-any.whl size=11136 sha256=71119224ee86dffe0eec5cef3578c0befb5bdec82db70a1fc58747e05b132cb6\n",
      "  Stored in directory: c:\\users\\user\\appdata\\local\\packages\\pythonsoftwarefoundation.python.3.11_qbz5n2kfra8p0\\localcache\\local\\pip\\cache\\wheels\\70\\bd\\ba\\8ae5c080c895c9360fe6e153acda2dee82527374467eae061b\n",
      "Successfully built pyperclip\n",
      "Installing collected packages: pytz, pyperclip, tzdata, Pillow, numpy, et-xmlfile, pandas, openpyxl, pyhwpx\n",
      "Successfully installed Pillow-10.3.0 et-xmlfile-1.1.0 numpy-1.26.4 openpyxl-3.1.3 pandas-2.2.2 pyhwpx-0.11.0 pyperclip-1.8.2 pytz-2024.1 tzdata-2024.1\n",
      "Note: you may need to restart the kernel to use updated packages.\n"
     ]
    }
   ],
   "source": [
    "%pip install pyhwpx"
   ]
  },
  {
   "cell_type": "code",
   "execution_count": 7,
   "metadata": {},
   "outputs": [],
   "source": [
    "from pyhwpx import Hwp"
   ]
  },
  {
   "cell_type": "code",
   "execution_count": 10,
   "metadata": {},
   "outputs": [],
   "source": [
    "hwpx = Hwp(visible=True)\n",
    "hwp = hwpx.hwp"
   ]
  },
  {
   "cell_type": "code",
   "execution_count": 11,
   "metadata": {},
   "outputs": [
    {
     "data": {
      "text/plain": [
       "True"
      ]
     },
     "execution_count": 11,
     "metadata": {},
     "output_type": "execute_result"
    }
   ],
   "source": [
    "hwpx.insert_text(\n",
    "    \"Hello World\" \n",
    ")"
   ]
  },
  {
   "cell_type": "code",
   "execution_count": 15,
   "metadata": {},
   "outputs": [],
   "source": [
    "for i in range(5):\n",
    "    hwpx.insert_text(\"Hi\")\n",
    "    hwpx.BreakPara()"
   ]
  },
  {
   "cell_type": "code",
   "execution_count": 40,
   "metadata": {},
   "outputs": [
    {
     "name": "stdout",
     "output_type": "stream",
     "text": [
      "def script_macro():\n",
      "    pset = hwp.HParameterSet.HCharShape\n",
      "    hwp.HAction.Run(\"MoveSelLeft\")\n",
      "    hwp.HAction.GetDefault(\"CharShape\", pset.HSet)\n",
      "    pset.FontTypeUser = hwp.FontType(\"TTF\")\n",
      "    pset.FontTypeSymbol = hwp.FontType(\"TTF\")\n",
      "    pset.FontTypeOther = hwp.FontType(\"TTF\")\n",
      "    pset.FontTypeJapanese = hwp.FontType(\"TTF\")\n",
      "    pset.FontTypeHanja = hwp.FontType(\"TTF\")\n",
      "    pset.FontTypeLatin = hwp.FontType(\"TTF\")\n",
      "    pset.FontTypeHangul = hwp.FontType(\"TTF\")\n",
      "    pset.DiacSymMark = hwp.DSMark(\"AcuteAccent\")\n",
      "    hwp.HAction.Execute(\"CharShape\", pset.HSet)\n",
      "    hwp.HAction.Run(\"Cancel\")\n",
      "    hwp.HAction.Run(\"MoveRight\")\n",
      "    hwp.HAction.GetDefault(\"CharShape\", pset.HSet)\n",
      "    with (pset.)\n",
      "    \n"
     ]
    }
   ],
   "source": [
    "hwpx.clipboard_to_pyfunc()"
   ]
  },
  {
   "cell_type": "code",
   "execution_count": 18,
   "metadata": {},
   "outputs": [],
   "source": [
    "def script_macro():\n",
    "    pset = hwp.HParameterSet.HSelectionOpt\n",
    "    hwp.HAction.Run(\"MoveLeft\")\n",
    "    hwp.HAction.Run(\"MoveUp\")\n",
    "    hwp.HAction.Run(\"MoveUp\")\n",
    "    hwp.HAction.Run(\"MoveSelLineEnd\")\n",
    "    hwp.HAction.Run(\"Copy\")\n",
    "    hwp.HAction.Run(\"MoveRight\")\n",
    "    hwp.HAction.Run(\"BreakPara\")\n",
    "    hwp.HAction.Run(\"MoveUp\")\n",
    "    hwp.HAction.GetDefault(\"Paste\", pset.HSet)\n",
    "    hwp.HAction.Execute(\"Paste\", pset.HSet)\n",
    "    \n"
   ]
  },
  {
   "cell_type": "code",
   "execution_count": 35,
   "metadata": {},
   "outputs": [],
   "source": [
    "script_macro()"
   ]
  },
  {
   "cell_type": "code",
   "execution_count": 36,
   "metadata": {},
   "outputs": [],
   "source": [
    "hwpx.add_tab(\n",
    "\n",
    ")"
   ]
  },
  {
   "cell_type": "code",
   "execution_count": null,
   "metadata": {},
   "outputs": [],
   "source": []
  }
 ],
 "metadata": {
  "kernelspec": {
   "display_name": "Python 3",
   "language": "python",
   "name": "python3"
  },
  "language_info": {
   "codemirror_mode": {
    "name": "ipython",
    "version": 3
   },
   "file_extension": ".py",
   "mimetype": "text/x-python",
   "name": "python",
   "nbconvert_exporter": "python",
   "pygments_lexer": "ipython3",
   "version": "3.11.9"
  }
 },
 "nbformat": 4,
 "nbformat_minor": 2
}
